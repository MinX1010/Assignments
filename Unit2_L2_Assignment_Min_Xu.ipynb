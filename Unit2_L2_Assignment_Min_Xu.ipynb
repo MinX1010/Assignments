{
  "nbformat": 4,
  "nbformat_minor": 0,
  "metadata": {
    "colab": {
      "name": "Unit2_L2 Assignment Min Xu.ipynb",
      "provenance": [],
      "collapsed_sections": []
    },
    "kernelspec": {
      "name": "python3",
      "display_name": "Python 3"
    }
  },
  "cells": [
    {
      "cell_type": "code",
      "metadata": {
        "id": "rgPFGBedDty4",
        "colab_type": "code",
        "colab": {}
      },
      "source": [
        "variable = 'hello there!'"
      ],
      "execution_count": 4,
      "outputs": []
    },
    {
      "cell_type": "code",
      "metadata": {
        "id": "WjcGwzq9DyaA",
        "colab_type": "code",
        "colab": {
          "base_uri": "https://localhost:8080/",
          "height": 34
        },
        "outputId": "26c8af1f-fa3d-470b-96cd-2bd57a7cd7b5"
      },
      "source": [
        "print(variable)"
      ],
      "execution_count": 5,
      "outputs": [
        {
          "output_type": "stream",
          "text": [
            "hello there!\n"
          ],
          "name": "stdout"
        }
      ]
    },
    {
      "cell_type": "code",
      "metadata": {
        "id": "I6is-QciE7Zm",
        "colab_type": "code",
        "colab": {}
      },
      "source": [
        "first_name = 'John'"
      ],
      "execution_count": 6,
      "outputs": []
    },
    {
      "cell_type": "code",
      "metadata": {
        "id": "ohkaHo0kFDIw",
        "colab_type": "code",
        "colab": {}
      },
      "source": [
        "last_name = 'Doe'"
      ],
      "execution_count": 8,
      "outputs": []
    },
    {
      "cell_type": "code",
      "metadata": {
        "id": "0vKM37ytIJbK",
        "colab_type": "code",
        "colab": {}
      },
      "source": [
        "email = '@gmail'"
      ],
      "execution_count": 17,
      "outputs": []
    },
    {
      "cell_type": "code",
      "metadata": {
        "id": "fxCqO1l7IRv9",
        "colab_type": "code",
        "colab": {
          "base_uri": "https://localhost:8080/",
          "height": 34
        },
        "outputId": "992a77bd-9398-49dd-bae4-85658a228978"
      },
      "source": [
        "print (first_name+last_name+email)"
      ],
      "execution_count": 18,
      "outputs": [
        {
          "output_type": "stream",
          "text": [
            "JohnDoe@gmail\n"
          ],
          "name": "stdout"
        }
      ]
    },
    {
      "cell_type": "code",
      "metadata": {
        "id": "8ahsnH9qIaa8",
        "colab_type": "code",
        "colab": {}
      },
      "source": [
        "name = 'iris'"
      ],
      "execution_count": 19,
      "outputs": []
    },
    {
      "cell_type": "code",
      "metadata": {
        "id": "e5Yrw_ULIh7q",
        "colab_type": "code",
        "colab": {
          "base_uri": "https://localhost:8080/",
          "height": 34
        },
        "outputId": "870490f9-7a2d-40e1-fa53-44501dc87e56"
      },
      "source": [
        "print(name.lower())"
      ],
      "execution_count": 20,
      "outputs": [
        {
          "output_type": "stream",
          "text": [
            "iris\n"
          ],
          "name": "stdout"
        }
      ]
    },
    {
      "cell_type": "code",
      "metadata": {
        "id": "al4DAG_DI8g4",
        "colab_type": "code",
        "colab": {
          "base_uri": "https://localhost:8080/",
          "height": 34
        },
        "outputId": "44e756ed-cd0b-40f6-af40-04ddd1b30496"
      },
      "source": [
        "print(name.upper())"
      ],
      "execution_count": 21,
      "outputs": [
        {
          "output_type": "stream",
          "text": [
            "IRIS\n"
          ],
          "name": "stdout"
        }
      ]
    },
    {
      "cell_type": "code",
      "metadata": {
        "id": "f9fXv0eYUo1P",
        "colab_type": "code",
        "colab": {}
      },
      "source": [
        "date = 15"
      ],
      "execution_count": 43,
      "outputs": []
    },
    {
      "cell_type": "code",
      "metadata": {
        "id": "TZT8klD0Ut86",
        "colab_type": "code",
        "colab": {
          "base_uri": "https://localhost:8080/",
          "height": 34
        },
        "outputId": "02a75c0b-f74a-4765-e185-8f3ecccfcec9"
      },
      "source": [
        "type(date)"
      ],
      "execution_count": 44,
      "outputs": [
        {
          "output_type": "execute_result",
          "data": {
            "text/plain": [
              "int"
            ]
          },
          "metadata": {
            "tags": []
          },
          "execution_count": 44
        }
      ]
    },
    {
      "cell_type": "code",
      "metadata": {
        "id": "cn6fZOIZUwfL",
        "colab_type": "code",
        "colab": {}
      },
      "source": [
        "message = \"Do you want to hang out on the \" + str(date) + \"th of this month?\""
      ],
      "execution_count": 47,
      "outputs": []
    },
    {
      "cell_type": "code",
      "metadata": {
        "id": "lsI6UFvIVRAf",
        "colab_type": "code",
        "colab": {
          "base_uri": "https://localhost:8080/",
          "height": 34
        },
        "outputId": "d710b34d-b230-4bcf-9571-312d2e2ae1aa"
      },
      "source": [
        "print(message)"
      ],
      "execution_count": 48,
      "outputs": [
        {
          "output_type": "stream",
          "text": [
            "Do you want to hang out on the 15th of this month?\n"
          ],
          "name": "stdout"
        }
      ]
    }
  ]
}